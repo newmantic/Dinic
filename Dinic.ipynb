{
  "nbformat": 4,
  "nbformat_minor": 0,
  "metadata": {
    "colab": {
      "provenance": [],
      "authorship_tag": "ABX9TyO9lqxrJSmom3Wi/V0AQWAZ",
      "include_colab_link": true
    },
    "kernelspec": {
      "name": "python3",
      "display_name": "Python 3"
    },
    "language_info": {
      "name": "python"
    }
  },
  "cells": [
    {
      "cell_type": "markdown",
      "metadata": {
        "id": "view-in-github",
        "colab_type": "text"
      },
      "source": [
        "<a href=\"https://colab.research.google.com/github/newmantic/Dinic/blob/main/Dinic.ipynb\" target=\"_parent\"><img src=\"https://colab.research.google.com/assets/colab-badge.svg\" alt=\"Open In Colab\"/></a>"
      ]
    },
    {
      "cell_type": "code",
      "execution_count": 1,
      "metadata": {
        "id": "ke9oNvV1lxQL"
      },
      "outputs": [],
      "source": [
        "from collections import deque, defaultdict\n",
        "\n",
        "class Dinic:\n",
        "    def __init__(self, graph, source, sink):\n",
        "        \"\"\"\n",
        "        Initialize the Dinic's algorithm.\n",
        "        :param graph: A dictionary where the keys are nodes and the values are dictionaries\n",
        "                      of neighbors with the capacity of the edge as the value.\n",
        "                      For example: {0: {1: 16, 2: 13}, 1: {2: 10, 3: 12}, ...}\n",
        "        :param source: The source node.\n",
        "        :param sink: The sink node.\n",
        "        \"\"\"\n",
        "        self.graph = graph\n",
        "        self.residual_graph = defaultdict(dict)\n",
        "        self.source = source\n",
        "        self.sink = sink\n",
        "        self.level = {}\n",
        "\n",
        "        for u in graph:\n",
        "            for v in graph[u]:\n",
        "                self.residual_graph[u][v] = graph[u][v]\n",
        "                if v not in self.residual_graph:\n",
        "                    self.residual_graph[v] = {}\n",
        "                if u not in self.residual_graph[v]:\n",
        "                    self.residual_graph[v][u] = 0  # Add reverse edge with 0 capacity\n",
        "\n",
        "    def bfs(self):\n",
        "        \"\"\"\n",
        "        Perform BFS to construct the level graph.\n",
        "        :return: True if there is a path from source to sink, False otherwise.\n",
        "        \"\"\"\n",
        "        self.level = {u: -1 for u in self.residual_graph}\n",
        "        self.level[self.source] = 0\n",
        "        queue = deque([self.source])\n",
        "\n",
        "        while queue:\n",
        "            u = queue.popleft()\n",
        "\n",
        "            for v in self.residual_graph[u]:\n",
        "                if self.level[v] < 0 and self.residual_graph[u][v] > 0:  # Edge has remaining capacity\n",
        "                    self.level[v] = self.level[u] + 1\n",
        "                    queue.append(v)\n",
        "\n",
        "        return self.level[self.sink] >= 0\n",
        "\n",
        "    def dfs(self, u, flow):\n",
        "        \"\"\"\n",
        "        Perform DFS to send flow along the path found in the level graph.\n",
        "        :param u: The current node.\n",
        "        :param flow: The flow to send.\n",
        "        :return: The flow sent along the path.\n",
        "        \"\"\"\n",
        "        if u == self.sink:\n",
        "            return flow\n",
        "\n",
        "        total_flow_sent = 0\n",
        "        for v in list(self.residual_graph[u]):\n",
        "            if self.level[v] == self.level[u] + 1 and self.residual_graph[u][v] > 0:\n",
        "                current_flow = min(flow, self.residual_graph[u][v])\n",
        "                temp_flow = self.dfs(v, current_flow)\n",
        "\n",
        "                if temp_flow > 0:\n",
        "                    self.residual_graph[u][v] -= temp_flow\n",
        "                    self.residual_graph[v][u] += temp_flow\n",
        "                    total_flow_sent += temp_flow\n",
        "                    flow -= temp_flow\n",
        "\n",
        "                    if flow == 0:\n",
        "                        break\n",
        "\n",
        "        return total_flow_sent\n",
        "\n",
        "    def dinic(self):\n",
        "        \"\"\"\n",
        "        Execute Dinic's algorithm to find the maximum flow from source to sink.\n",
        "        :return: The maximum flow value.\n",
        "        \"\"\"\n",
        "        max_flow = 0\n",
        "\n",
        "        while self.bfs():\n",
        "            flow = self.dfs(self.source, float('Inf'))\n",
        "            while flow:\n",
        "                max_flow += flow\n",
        "                flow = self.dfs(self.source, float('Inf'))\n",
        "\n",
        "        return max_flow"
      ]
    },
    {
      "cell_type": "code",
      "source": [
        "def test_case_1():\n",
        "    graph = {\n",
        "        0: {1: 16, 2: 13},\n",
        "        1: {2: 10, 3: 12},\n",
        "        2: {1: 4, 4: 14},\n",
        "        3: {2: 9, 5: 20},\n",
        "        4: {3: 7, 5: 4},\n",
        "        5: {}\n",
        "    }\n",
        "    dinic = Dinic(graph, 0, 5)\n",
        "    max_flow = dinic.dinic()\n",
        "    print(f\"Max Flow: {max_flow}\")  # Expected: 23\n",
        "\n",
        "test_case_1()"
      ],
      "metadata": {
        "colab": {
          "base_uri": "https://localhost:8080/"
        },
        "id": "3RBcyvXkmOFY",
        "outputId": "e74dbe4f-0533-4aea-8f12-478e67b7186f"
      },
      "execution_count": 2,
      "outputs": [
        {
          "output_type": "stream",
          "name": "stdout",
          "text": [
            "Max Flow: 23\n"
          ]
        }
      ]
    },
    {
      "cell_type": "code",
      "source": [
        "def test_case_2():\n",
        "    graph = {\n",
        "        0: {1: 10, 2: 10},\n",
        "        1: {3: 4, 2: 2, 4: 8},\n",
        "        2: {4: 9},\n",
        "        3: {5: 10},\n",
        "        4: {3: 6, 5: 10},\n",
        "        5: {}\n",
        "    }\n",
        "    dinic = Dinic(graph, 0, 5)\n",
        "    max_flow = dinic.dinic()\n",
        "    print(f\"Max Flow: {max_flow}\")  # Expected: 19\n",
        "\n",
        "test_case_2()"
      ],
      "metadata": {
        "colab": {
          "base_uri": "https://localhost:8080/"
        },
        "id": "ggo3PJ0zmQ7Y",
        "outputId": "41db9cc6-7f0d-4f5d-8b6b-a0f4b167ec2f"
      },
      "execution_count": 3,
      "outputs": [
        {
          "output_type": "stream",
          "name": "stdout",
          "text": [
            "Max Flow: 19\n"
          ]
        }
      ]
    },
    {
      "cell_type": "code",
      "source": [
        "def test_case_3():\n",
        "    graph = {\n",
        "        0: {1: 20, 2: 10},\n",
        "        1: {2: 5, 3: 10},\n",
        "        2: {4: 10},\n",
        "        3: {5: 20},\n",
        "        4: {3: 15, 5: 10},\n",
        "        5: {}\n",
        "    }\n",
        "    dinic = Dinic(graph, 0, 5)\n",
        "    max_flow = dinic.dinic()\n",
        "    print(f\"Max Flow: {max_flow}\")  # Expected: 20\n",
        "\n",
        "test_case_3()"
      ],
      "metadata": {
        "colab": {
          "base_uri": "https://localhost:8080/"
        },
        "id": "TxyM4VAjmUWo",
        "outputId": "38ad7023-0085-497f-dde0-f817ccb3e8c9"
      },
      "execution_count": 4,
      "outputs": [
        {
          "output_type": "stream",
          "name": "stdout",
          "text": [
            "Max Flow: 20\n"
          ]
        }
      ]
    }
  ]
}